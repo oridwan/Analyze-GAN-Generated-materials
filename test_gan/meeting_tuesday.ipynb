{
 "cells": [
  {
   "cell_type": "code",
   "execution_count": 14,
   "id": "b23415e5-84a2-43b5-937b-8c253f6251f8",
   "metadata": {},
   "outputs": [
    {
     "name": "stdout",
     "output_type": "stream",
     "text": [
      "import\n",
      "import\n"
     ]
    }
   ],
   "source": [
    "from models import *\n",
    "from train import*"
   ]
  },
  {
   "cell_type": "code",
   "execution_count": 68,
   "id": "7280bbb1-3add-4241-b946-096fdca6c7fe",
   "metadata": {},
   "outputs": [
    {
     "name": "stdout",
     "output_type": "stream",
     "text": [
      "<__main__.Options object at 0x122055820>\n"
     ]
    }
   ],
   "source": [
    "class Options:\n",
    "    def __init__(self):\n",
    "        self.n_epochs = 501\n",
    "        self.batch_size = 32\n",
    "        self.d_lr = 0.0001\n",
    "        self.q_lr = 0.0001\n",
    "        self.g_lr = 0.0001\n",
    "        self.b1 = 0.5\n",
    "        self.b2 = 0.999\n",
    "        self.latent_dim = 512\n",
    "        self.model_save_dir = './model_cwgan_mgmno/'\n",
    "        self.load_model = False\n",
    "        self.load_generator = None\n",
    "        self.load_discriminator = None\n",
    "        self.load_q = None\n",
    "        self.constraint_epoch = 10000\n",
    "        self.gen_dir = './gen_image_cwgan_mgmno/'\n",
    "        self.trainingdata = 'mgmno_1000.pickle'\n",
    "        self.input_dim = 512+28+1\n",
    "\n",
    "opt = Options()\n",
    "print(opt)"
   ]
  },
  {
   "cell_type": "code",
   "execution_count": 69,
   "id": "53bfe1c8-dc9f-489e-b0e3-f9e18d135e0d",
   "metadata": {},
   "outputs": [],
   "source": [
    "import torch"
   ]
  },
  {
   "cell_type": "code",
   "execution_count": 70,
   "id": "c54ac6ca-671e-4f43-9885-a9b9111f4ae1",
   "metadata": {},
   "outputs": [],
   "source": [
    "generator = Generator(opt)\n",
    "discriminator = Discriminator(opt)\n",
    "net_Q = QHead_(opt)"
   ]
  },
  {
   "cell_type": "code",
   "execution_count": 71,
   "id": "185965b7-feea-4690-ae20-f15945872eef",
   "metadata": {},
   "outputs": [
    {
     "data": {
      "text/plain": [
       "<All keys matched successfully>"
      ]
     },
     "execution_count": 71,
     "metadata": {},
     "output_type": "execute_result"
    }
   ],
   "source": [
    "device = torch.device('cpu')\n",
    "generator.load_state_dict(torch.load('/Users/oridwan/Desktop/generator_500', \n",
    "                                     map_location=device))\n",
    "discriminator.load_state_dict(torch.load('/Users/oridwan/Desktop/discriminator_500', \n",
    "                                     map_location=device))\n",
    "net_Q.load_state_dict(torch.load('/Users/oridwan/Desktop/Q_500', \n",
    "                                     map_location=device))"
   ]
  },
  {
   "cell_type": "code",
   "execution_count": 119,
   "id": "65fa4e82-aeca-45df-b3b4-84e169735bf1",
   "metadata": {},
   "outputs": [],
   "source": [
    "import numpy as np\n",
    "#from view_atoms_mgmno import view_atoms_classifier\n",
    "import numpy as np\n",
    "from ase import Atoms\n",
    "from ase.io import read,write\n",
    "import sys\n",
    "import torch\n",
    "\n",
    "def view_atoms_classifier(image,mg_index,mn_index, o_index, view=True):\n",
    "    \n",
    "\tx= image.reshape(-1,3)\n",
    "\tmg = x[2:10,:]\n",
    "\tmn = x[10:18,:]\n",
    "\to = x[18:,:]\n",
    "\n",
    "\tl = x[0,:]*30\n",
    "\ta = x[1,:]*180\n",
    "\tc = np.hstack((l,a))\n",
    "\tatoms = Atoms('H')\n",
    "\tatoms.set_cell(c)\n",
    "\tcell = atoms.get_cell()\n",
    "\tt = np.isnan(cell)\n",
    "\ttt = np.sum(t)\n",
    "\tisnan = False\n",
    "\tif not tt == 0:\n",
    "\t\tisnan = True\n",
    "\t\tprint(cell)\n",
    "\t\tprint(l)\n",
    "\t\tprint(a)\n",
    "\t#_,mg_index = torch.max(mg_label,dim=1)\n",
    "\t#_,mn_index = torch.max(mn_label,dim=1)\n",
    "\t#_,o_index = torch.max(o_label,dim=1)\n",
    "\t\n",
    "\t#mg_index = mg_index.reshape(8,).detach().cpu().numpy()\n",
    "\t#mn_index = mn_index.reshape(8,).detach().cpu().numpy()\n",
    "\t#o_index = o_index.reshape(12,).detach().cpu().numpy()\n",
    "\t\n",
    "\t\n",
    "\tmg_pos = mg[np.where(mg_index)]\n",
    "\tmn_pos = mn[np.where(mn_index)]\n",
    "\to_pos = o[np.where(o_index)]\n",
    "\t\n",
    "\tn_mg = len(mg_pos)\n",
    "\tn_mn = len(mn_pos)\n",
    "\tn_o = len(o_pos)\n",
    "\t\n",
    "\tif n_mg == 0:\n",
    "\t\tmg_pos = np.array([0.1667,0.1667,0.1667]).reshape(1,3)\n",
    "\t\tn_mg = 1\n",
    "\tif n_mn == 0:\n",
    "\t\tmn_pos = np.array([0.1667,0.1667,0.1667]).reshape(1,3)\n",
    "\t\tn_mn = 1\n",
    "\t\t\n",
    "\tif n_o == 0:\n",
    "\t\to_pos = np.array([0.1667,0.1667,0.1667]).reshape(1,3)\n",
    "\t\tn_o = 1\n",
    "\n",
    "\tpos = np.vstack((mg_pos,mn_pos,o_pos))\n",
    "\tscaled_pos = back_to_10_cell(pos,n_mg,n_mn,n_o)\n",
    "\tatoms = back_to_real_cell(scaled_pos, cell, n_mg,n_mn,n_o)\n",
    "\tatoms.set_pbc([1,1,1])\n",
    "\tif view :\n",
    "\t\tatoms.edit()\n",
    "\t\t\t\n",
    "\treturn atoms, x, isnan"
   ]
  },
  {
   "cell_type": "code",
   "execution_count": 115,
   "id": "01479939-9e2f-40e0-aecb-257f21648262",
   "metadata": {
    "scrolled": true
   },
   "outputs": [
    {
     "name": "stdout",
     "output_type": "stream",
     "text": [
      "fake_c_mg_int [4 0 2 2 3 5 4 4 0 1 4 3 6 2 6 1 2 1 6 0 3 7 2 0 2 2 2 3 5 2 5 5]\n",
      "fake_c_mg tensor([[0., 0., 0., 0., 1., 0., 0., 0.],\n",
      "        [1., 0., 0., 0., 0., 0., 0., 0.],\n",
      "        [0., 0., 1., 0., 0., 0., 0., 0.],\n",
      "        [0., 0., 1., 0., 0., 0., 0., 0.],\n",
      "        [0., 0., 0., 1., 0., 0., 0., 0.],\n",
      "        [0., 0., 0., 0., 0., 1., 0., 0.],\n",
      "        [0., 0., 0., 0., 1., 0., 0., 0.],\n",
      "        [0., 0., 0., 0., 1., 0., 0., 0.],\n",
      "        [1., 0., 0., 0., 0., 0., 0., 0.],\n",
      "        [0., 1., 0., 0., 0., 0., 0., 0.],\n",
      "        [0., 0., 0., 0., 1., 0., 0., 0.],\n",
      "        [0., 0., 0., 1., 0., 0., 0., 0.],\n",
      "        [0., 0., 0., 0., 0., 0., 1., 0.],\n",
      "        [0., 0., 1., 0., 0., 0., 0., 0.],\n",
      "        [0., 0., 0., 0., 0., 0., 1., 0.],\n",
      "        [0., 1., 0., 0., 0., 0., 0., 0.],\n",
      "        [0., 0., 1., 0., 0., 0., 0., 0.],\n",
      "        [0., 1., 0., 0., 0., 0., 0., 0.],\n",
      "        [0., 0., 0., 0., 0., 0., 1., 0.],\n",
      "        [1., 0., 0., 0., 0., 0., 0., 0.],\n",
      "        [0., 0., 0., 1., 0., 0., 0., 0.],\n",
      "        [0., 0., 0., 0., 0., 0., 0., 1.],\n",
      "        [0., 0., 1., 0., 0., 0., 0., 0.],\n",
      "        [1., 0., 0., 0., 0., 0., 0., 0.],\n",
      "        [0., 0., 1., 0., 0., 0., 0., 0.],\n",
      "        [0., 0., 1., 0., 0., 0., 0., 0.],\n",
      "        [0., 0., 1., 0., 0., 0., 0., 0.],\n",
      "        [0., 0., 0., 1., 0., 0., 0., 0.],\n",
      "        [0., 0., 0., 0., 0., 1., 0., 0.],\n",
      "        [0., 0., 1., 0., 0., 0., 0., 0.],\n",
      "        [0., 0., 0., 0., 0., 1., 0., 0.],\n",
      "        [0., 0., 0., 0., 0., 1., 0., 0.]])\n",
      "fake_c_mn_int [6 7 3 1 7 0 4 2 2 1 5 2 3 0 0 5 1 0 4 3 7 4 1 6 1 6 1 4 1 2 0 2]\n",
      "fake_c_mn tensor([[0., 0., 0., 0., 0., 0., 1., 0.],\n",
      "        [0., 0., 0., 0., 0., 0., 0., 1.],\n",
      "        [0., 0., 0., 1., 0., 0., 0., 0.],\n",
      "        [0., 1., 0., 0., 0., 0., 0., 0.],\n",
      "        [0., 0., 0., 0., 0., 0., 0., 1.],\n",
      "        [1., 0., 0., 0., 0., 0., 0., 0.],\n",
      "        [0., 0., 0., 0., 1., 0., 0., 0.],\n",
      "        [0., 0., 1., 0., 0., 0., 0., 0.],\n",
      "        [0., 0., 1., 0., 0., 0., 0., 0.],\n",
      "        [0., 1., 0., 0., 0., 0., 0., 0.],\n",
      "        [0., 0., 0., 0., 0., 1., 0., 0.],\n",
      "        [0., 0., 1., 0., 0., 0., 0., 0.],\n",
      "        [0., 0., 0., 1., 0., 0., 0., 0.],\n",
      "        [1., 0., 0., 0., 0., 0., 0., 0.],\n",
      "        [1., 0., 0., 0., 0., 0., 0., 0.],\n",
      "        [0., 0., 0., 0., 0., 1., 0., 0.],\n",
      "        [0., 1., 0., 0., 0., 0., 0., 0.],\n",
      "        [1., 0., 0., 0., 0., 0., 0., 0.],\n",
      "        [0., 0., 0., 0., 1., 0., 0., 0.],\n",
      "        [0., 0., 0., 1., 0., 0., 0., 0.],\n",
      "        [0., 0., 0., 0., 0., 0., 0., 1.],\n",
      "        [0., 0., 0., 0., 1., 0., 0., 0.],\n",
      "        [0., 1., 0., 0., 0., 0., 0., 0.],\n",
      "        [0., 0., 0., 0., 0., 0., 1., 0.],\n",
      "        [0., 1., 0., 0., 0., 0., 0., 0.],\n",
      "        [0., 0., 0., 0., 0., 0., 1., 0.],\n",
      "        [0., 1., 0., 0., 0., 0., 0., 0.],\n",
      "        [0., 0., 0., 0., 1., 0., 0., 0.],\n",
      "        [0., 1., 0., 0., 0., 0., 0., 0.],\n",
      "        [0., 0., 1., 0., 0., 0., 0., 0.],\n",
      "        [1., 0., 0., 0., 0., 0., 0., 0.],\n",
      "        [0., 0., 1., 0., 0., 0., 0., 0.]])\n",
      "fake_c_o_int [ 2  3 11  7  1  4  5  5  6  7  6 10  7  8  9  0  5  7  6  3 11  0  8  4\n",
      "  8  9  0  6 10  4  1  6]\n",
      "fake_c_o tensor([[0., 0., 1., 0., 0., 0., 0., 0., 0., 0., 0., 0.],\n",
      "        [0., 0., 0., 1., 0., 0., 0., 0., 0., 0., 0., 0.],\n",
      "        [0., 0., 0., 0., 0., 0., 0., 0., 0., 0., 0., 1.],\n",
      "        [0., 0., 0., 0., 0., 0., 0., 1., 0., 0., 0., 0.],\n",
      "        [0., 1., 0., 0., 0., 0., 0., 0., 0., 0., 0., 0.],\n",
      "        [0., 0., 0., 0., 1., 0., 0., 0., 0., 0., 0., 0.],\n",
      "        [0., 0., 0., 0., 0., 1., 0., 0., 0., 0., 0., 0.],\n",
      "        [0., 0., 0., 0., 0., 1., 0., 0., 0., 0., 0., 0.],\n",
      "        [0., 0., 0., 0., 0., 0., 1., 0., 0., 0., 0., 0.],\n",
      "        [0., 0., 0., 0., 0., 0., 0., 1., 0., 0., 0., 0.],\n",
      "        [0., 0., 0., 0., 0., 0., 1., 0., 0., 0., 0., 0.],\n",
      "        [0., 0., 0., 0., 0., 0., 0., 0., 0., 0., 1., 0.],\n",
      "        [0., 0., 0., 0., 0., 0., 0., 1., 0., 0., 0., 0.],\n",
      "        [0., 0., 0., 0., 0., 0., 0., 0., 1., 0., 0., 0.],\n",
      "        [0., 0., 0., 0., 0., 0., 0., 0., 0., 1., 0., 0.],\n",
      "        [1., 0., 0., 0., 0., 0., 0., 0., 0., 0., 0., 0.],\n",
      "        [0., 0., 0., 0., 0., 1., 0., 0., 0., 0., 0., 0.],\n",
      "        [0., 0., 0., 0., 0., 0., 0., 1., 0., 0., 0., 0.],\n",
      "        [0., 0., 0., 0., 0., 0., 1., 0., 0., 0., 0., 0.],\n",
      "        [0., 0., 0., 1., 0., 0., 0., 0., 0., 0., 0., 0.],\n",
      "        [0., 0., 0., 0., 0., 0., 0., 0., 0., 0., 0., 1.],\n",
      "        [1., 0., 0., 0., 0., 0., 0., 0., 0., 0., 0., 0.],\n",
      "        [0., 0., 0., 0., 0., 0., 0., 0., 1., 0., 0., 0.],\n",
      "        [0., 0., 0., 0., 1., 0., 0., 0., 0., 0., 0., 0.],\n",
      "        [0., 0., 0., 0., 0., 0., 0., 0., 1., 0., 0., 0.],\n",
      "        [0., 0., 0., 0., 0., 0., 0., 0., 0., 1., 0., 0.],\n",
      "        [1., 0., 0., 0., 0., 0., 0., 0., 0., 0., 0., 0.],\n",
      "        [0., 0., 0., 0., 0., 0., 1., 0., 0., 0., 0., 0.],\n",
      "        [0., 0., 0., 0., 0., 0., 0., 0., 0., 0., 1., 0.],\n",
      "        [0., 0., 0., 0., 1., 0., 0., 0., 0., 0., 0., 0.],\n",
      "        [0., 1., 0., 0., 0., 0., 0., 0., 0., 0., 0., 0.],\n",
      "        [0., 0., 0., 0., 0., 0., 1., 0., 0., 0., 0., 0.]])\n"
     ]
    }
   ],
   "source": [
    "FloatTensor = torch.FloatTensor\n",
    "\n",
    "fake_c_mg_int = np.random.randint(0, 8, opt.batch_size)\n",
    "print(\"fake_c_mg_int\",fake_c_mg_int)\n",
    "fake_c_mg = to_categorical(fake_c_mg_int,num_columns = 8)\n",
    "print(\"fake_c_mg\",fake_c_mg)\n",
    "fake_c_mn_int = np.random.randint(0, 8, opt.batch_size)\n",
    "print(\"fake_c_mn_int\",fake_c_mn_int)\n",
    "\n",
    "fake_c_mn = to_categorical(fake_c_mn_int,num_columns = 8)\n",
    "print(\"fake_c_mn\",fake_c_mn)\n",
    "\n",
    "fake_c_o_int = np.random.randint(0,12,opt.batch_size)\n",
    "print(\"fake_c_o_int\",fake_c_o_int)\n",
    "\n",
    "fake_c_o = to_categorical(fake_c_o_int, num_columns = 12)\n",
    "print(\"fake_c_o\",fake_c_o)\n",
    "\n",
    "\n",
    "natoms_fake = fake_c_mg_int + fake_c_mn_int + fake_c_o_int + 3\n",
    "natoms_fake = Variable(FloatTensor(natoms_fake)/(28.0)).unsqueeze(-1)\n",
    "z = FloatTensor(np.random.normal(0,1,(opt.batch_size, opt.latent_dim)))\n"
   ]
  },
  {
   "cell_type": "code",
   "execution_count": 125,
   "id": "67ee56f4-33e4-4906-902f-ccc7681c2292",
   "metadata": {
    "scrolled": true
   },
   "outputs": [
    {
     "name": "stdout",
     "output_type": "stream",
     "text": [
      "gen_input torch.Size([32, 541])\n",
      "l1 layer in generator torch.Size([32, 3584])\n",
      "Convert it to pixel data torch.Size([32, 128, 28, 1])\n",
      "Conv1 layer in generator torch.Size([32, 256, 28, 3])\n",
      "Conv2 layer in generator torch.Size([32, 512, 28, 3])\n",
      "Conv3 layer in generator torch.Size([32, 256, 28, 3])\n",
      "Conv4 layer in generator torch.Size([32, 1, 28, 3])\n",
      "flatten Conv4 layer in generator torch.Size([32, 84])\n",
      "Apply activation to get pos torch.Size([32, 1, 28, 3])\n",
      "Get Cell from position torch.Size([32, 6])\n",
      "Final generator output torch.Size([32, 1, 30, 3])\n",
      "++++++++++++++++++++++++++ torch.Size([32, 1, 30, 3])\n",
      "model layer in Discriminator torch.Size([32, 256, 30, 1])\n",
      "extract cell torch.Size([32, 256, 2, 1])\n",
      "2D average pooling on Mg torch.Size([32, 256, 1, 1])\n",
      "2D average pooling on Mn torch.Size([32, 256, 1, 1])\n",
      "2D average pooling on O torch.Size([32, 256, 1, 1])\n",
      "final output torch.Size([32, 1280])\n",
      "Feature layer in Discriminator torch.Size([32, 200])\n",
      "Output layer in Discriminator torch.Size([32, 10])\n",
      "Input of classifier torch.Size([32, 1, 30, 3])\n",
      "model_cell in classifier torch.Size([32, 64, 2, 1])\n",
      "model_mg in classifier torch.Size([32, 2, 8, 1])\n",
      "model_mn in classifier torch.Size([32, 2, 8, 1])\n",
      "model_o in classifier torch.Size([32, 2, 12, 1])\n",
      "final output of mg from classifier torch.Size([32, 2, 8, 1])\n",
      "final output of mn from classifier torch.Size([32, 2, 8, 1])\n",
      "final output of o from classifier torch.Size([32, 2, 12, 1])\n",
      "final cell label from classifier torch.Size([32, 1])\n",
      "final mg_cat from classifier torch.Size([32, 8])\n",
      "final mn_cat from classifier torch.Size([32, 8])\n",
      "final o_cat from classifier torch.Size([32, 12])\n"
     ]
    }
   ],
   "source": [
    "fake = generator(z,fake_c_mg,fake_c_mn,fake_c_o,natoms_fake)\n",
    "print(\"++++++++++++++++++++++++++\",fake.shape)\n",
    "fake_feature, G = discriminator(fake)\n",
    "fake_mg_label, fake_mn_label, fake_o_label, fake_mg_cat, fake_mn_cat, fake_o_cat, fake_cell_pred = net_Q(fake)"
   ]
  },
  {
   "cell_type": "code",
   "execution_count": 127,
   "id": "5ebebfce-588f-41d9-951f-d72034b7ece1",
   "metadata": {
    "jupyter": {
     "source_hidden": true
    }
   },
   "outputs": [
    {
     "data": {
      "text/plain": [
       "torch.Size([32, 2, 8, 1])"
      ]
     },
     "execution_count": 127,
     "metadata": {},
     "output_type": "execute_result"
    }
   ],
   "source": [
    "fake_mg_label.shape"
   ]
  },
  {
   "cell_type": "code",
   "execution_count": 131,
   "id": "9d0105db-b24a-44ba-a6a0-dc3a923e47e4",
   "metadata": {},
   "outputs": [
    {
     "name": "stdout",
     "output_type": "stream",
     "text": [
      "tensor([1, 0, 0, 0, 1, 1, 1, 1])\n",
      "tensor([0, 1, 0, 1, 1, 1, 1, 0])\n",
      "tensor([1, 1, 1, 1, 1, 1, 1, 1, 1, 0, 0, 1])\n"
     ]
    },
    {
     "data": {
      "text/plain": [
       "tensor([[1],\n",
       "        [0],\n",
       "        [0],\n",
       "        [0],\n",
       "        [1],\n",
       "        [1],\n",
       "        [1],\n",
       "        [1]])"
      ]
     },
     "execution_count": 131,
     "metadata": {},
     "output_type": "execute_result"
    }
   ],
   "source": [
    "_,mg_index = torch.max(fake_mg_label,dim=1)\n",
    "_,mn_index = torch.max(fake_mn_label,dim=1)\n",
    "_,o_index = torch.max(fake_o_label,dim=1)\n",
    "print(mg_index[0, :, 0])\n",
    "print(mn_index[0, :, 0])\n",
    "print(o_index[0, :, 0])\n",
    "mg_index[0] "
   ]
  },
  {
   "cell_type": "code",
   "execution_count": 132,
   "id": "eb479c59-51c4-4df6-b3c0-58738f99ad41",
   "metadata": {
    "scrolled": true
   },
   "outputs": [
    {
     "name": "stdout",
     "output_type": "stream",
     "text": [
      "0 Atoms(symbols='Mg5Mn5O10', pbc=True, cell=[[6.449182510375977, 0.0, 0.0], [-1.2519056855024007, 7.1369486579376025, 0.0], [-1.5252379238172074, -1.4272080458662846, 7.636989493824114]])\n",
      "1 Atoms(symbols='MgMnO2', pbc=True, cell=[[3.65177845954895, 0.0, 0.0], [0.8182627211507978, 3.0294424592056943, 0.0], [0.4711042184319994, 0.3897783521049263, 4.451607840354251]])\n",
      "2 Atoms(symbols='Mg4Mn5O12', pbc=True, cell=[[7.209471225738525, 0.0, 0.0], [2.169378406785703, 6.830359125680276, 0.0], [5.039673943532296, -1.4094761180995057, 7.368873908735248]])\n",
      "3 Atoms(symbols='Mg3Mn4O8', pbc=True, cell=[[5.614352703094482, 0.0, 0.0], [3.487483742188644, 5.029972431654403, 0.0], [5.544984583296392, 2.273897010008461, 4.8450441352583224]])\n",
      "4 Atoms(symbols='Mg3Mn8O10', pbc=True, cell=[[10.235210418701172, 0.0, 0.0], [-3.521708976333643, 5.285621254172655, 0.0], [-0.9810748264793837, -0.256905368188995, 8.912025675693277]])\n",
      "5 Atoms(symbols='Mg5MnO5', pbc=True, cell=[[2.9878625869750977, 0.0, 0.0], [0.6668976921573937, 4.375551936423011, 0.0], [-1.4298640274292609, 0.8211101419667798, 4.778907724647056]])\n",
      "6 Atoms(symbols='Mg4Mn2O6', pbc=True, cell=[[4.575701713562012, 0.0, 0.0], [-1.7324846963858511, 5.178297800507308, 0.0], [-1.1526482161093057, -0.5268912615442157, 4.947270829941862]])\n",
      "7 Atoms(symbols='Mg4MnO6', pbc=True, cell=[[5.395013809204102, 0.0, 0.0], [-1.7050667456435447, 3.7147557672921323, 0.0], [-1.7831402135811705, -0.2545751185814172, 6.52303991031084]])\n",
      "8 Atoms(symbols='MgMn3O7', pbc=True, cell=[[5.401357173919678, 0.0, 0.0], [1.8697014757582209, 5.275294990357625, 0.0], [-0.18979511684095762, 3.3083894581733717, 5.405875794400457]])\n",
      "9 Atoms(symbols='MgMn4O8', pbc=True, cell=[[3.883850336074829, 0.0, 0.0], [2.0829796333257566, 6.173425690526181, 0.0], [3.772895214794907, 0.16450715311810044, 5.1941497918012605]])\n",
      "10 Atoms(symbols='Mg5Mn3O8', pbc=True, cell=[[3.463517427444458, 0.0, 0.0], [9.022890843250956, 11.286536732079059, 0.0], [-0.5616783524352903, -1.1547390521093883, 5.978507368981542]])\n",
      "11 Atoms(symbols='Mg4Mn3O10', pbc=True, cell=[[10.730350494384766, 0.0, 0.0], [0.5787315101542757, 4.904161934445755, 0.0], [-4.800705076117196, -1.6325850086694949, 6.563290121015865]])\n",
      "12 Atoms(symbols='Mg3Mn5O8', pbc=True, cell=[[5.111382961273193, 0.0, 0.0], [-1.6031669558933492, 6.134820390052336, 0.0], [0.7300193523705973, 1.6402568596883265, 7.0224217422970465]])\n",
      "13 Atoms(symbols='Mg4Mn2O7', pbc=True, cell=[[6.183044910430908, 0.0, 0.0], [0.09695935940949307, 4.895884854001824, 0.0], [-0.10417897985681122, -0.66259444031161, 6.258103302294641]])\n",
      "14 Atoms(symbols='Mg4Mn2O9', pbc=True, cell=[[5.568733215332031, 0.0, 0.0], [-0.21430853012051482, 6.354275292593719, 0.0], [-1.4735711995249279, -0.7862612098271418, 5.247146447152544]])\n",
      "15 Atoms(symbols='MgMn5O10', pbc=True, cell=[[5.575552463531494, 0.0, 0.0], [-0.8327195275028292, 5.595565044485013, 0.0], [-0.046905385759712294, -0.9106099667485598, 6.7504507270255685]])\n",
      "16 Atoms(symbols='Mg2Mn4O6', pbc=True, cell=[[5.404050350189209, 0.0, 0.0], [1.064044971061615, 5.932787104131003, 0.0], [-0.13937877278104954, -1.4641274449849861, 2.8295638479409964]])\n",
      "17 Atoms(symbols='Mg3Mn2O7', pbc=True, cell=[[5.469817638397217, 0.0, 0.0], [0.2575664209404801, 4.338915705190207, 0.0], [3.1450440978094707, 0.08659886271461681, 6.168272617025518]])\n",
      "18 Atoms(symbols='Mg2Mn5O8', pbc=True, cell=[[6.837934494018555, 0.0, 0.0], [-2.5650234897155224, 6.25031516862685, 0.0], [-2.5609553723282255, 0.1516871300982093, 5.411823036839344]])\n",
      "19 Atoms(symbols='MgMn2O4', pbc=True, cell=[[3.075129270553589, 0.0, 0.0], [-1.6984920102953287, 4.215051506390762, 0.0], [1.9837256389905005, -1.6834946056159628, 4.893757156951773]])\n",
      "20 Atoms(symbols='Mg3Mn7O12', pbc=True, cell=[[17.316797256469727, 0.0, 0.0], [-1.728316669012525, 3.3637936755985134, 0.0], [-0.842978949425096, -0.13813606258522898, 9.076964872952244]])\n",
      "21 Atoms(symbols='Mg3Mn5O10', pbc=True, cell=[[6.478931903839111, 0.0, 0.0], [2.1313297070986024, 5.04903319494168, 0.0], [2.4288633538694473, -0.2761869311212949, 7.4425913387134734]])\n",
      "22 Atoms(symbols='Mg3Mn4O9', pbc=True, cell=[[9.102616310119629, 0.0, 0.0], [-1.1374731688736404, 8.757335171646464, 0.0], [0.04884984910614757, -0.6209402457404055, 3.514646307561779]])\n",
      "23 Atoms(symbols='MgMn4O5', pbc=True, cell=[[4.207324028015137, 0.0, 0.0], [1.1172152516268992, 3.3240980796145925, 0.0], [3.5079113025552715, 1.4775583932785212, 7.8017738836097426]])\n",
      "24 Atoms(symbols='Mg3Mn4O9', pbc=True, cell=[[7.937155246734619, 0.0, 0.0], [-0.7457429947619478, 8.008043766085967, 0.0], [0.28127022366577803, -0.08180689341721695, 4.264989382865822]])\n",
      "25 Atoms(symbols='Mg2Mn6O11', pbc=True, cell=[[7.0160441398620605, 0.0, 0.0], [-0.06624566794907513, 7.304216390581001, 0.0], [-1.3399651629501583, -0.6574123637364805, 7.914107839915997]])\n",
      "26 Atoms(symbols='Mg3Mn4O9', pbc=True, cell=[[6.190514087677002, 0.0, 0.0], [4.64323069794489, 6.270406491917304, 0.0], [5.1156486228082505, 2.5253081795359917, 5.664805208307066]])\n",
      "27 Atoms(symbols='Mg3Mn5O8', pbc=True, cell=[[8.216955184936523, 0.0, 0.0], [-3.4598019085407303, 6.334957722446369, 0.0], [-4.262229825365148, 0.8609929597635586, 5.021800357904692]])\n",
      "28 Atoms(symbols='Mg7Mn2O11', pbc=True, cell=[[7.7056145668029785, 0.0, 0.0], [4.9679515110729575, 9.062658668094565, 0.0], [1.3848712303471435, 2.585756683775607, 5.890026474403242]])\n",
      "29 Atoms(symbols='Mg2Mn2O5', pbc=True, cell=[[4.199193954467773, 0.0, 0.0], [3.9152260929259732, 5.072034162916585, 0.0], [2.8446736474904415, 0.33340555445651476, 3.4946339385435534]])\n",
      "30 Atoms(symbols='Mg7MnO9', pbc=True, cell=[[6.440447807312012, 0.0, 0.0], [0.974100700840749, 5.855169080232777, 0.0], [0.524941207380106, -0.6706037947106233, 5.5664720848461275]])\n",
      "31 Atoms(symbols='Mg6Mn2O8', pbc=True, cell=[[5.7239909172058105, 0.0, 0.0], [-1.931701282489449, 5.281566154483093, 0.0], [-2.4667967052229685, 0.7528510024654509, 5.2216721341496966]])\n"
     ]
    }
   ],
   "source": [
    "for i in range(opt.batch_size):\n",
    "    atom, _, _ = view_atoms_classifier(fake[i].detach().numpy(),\n",
    "                                  mg_index[i, :, 0].numpy(),\n",
    "                                  mn_index[i, :, 0].numpy(),\n",
    "                                  o_index[i, :, 0].numpy(),\n",
    "                                  view=False)\n",
    "    #print(i, mg_index[i])\n",
    "    #atom.write(str(i)+'.cif', format='cif')\n",
    "    print(i, atom)"
   ]
  },
  {
   "cell_type": "code",
   "execution_count": 81,
   "id": "408c2181-cba5-4083-8cfd-e2f3431013b0",
   "metadata": {},
   "outputs": [
    {
     "name": "stdout",
     "output_type": "stream",
     "text": [
      "torch.Size([32, 2, 8, 1])\n"
     ]
    }
   ],
   "source": [
    "_,mn_index = torch.max(fake_mn_label,dim=1)\n",
    "print(fake_mn_label.shape)"
   ]
  },
  {
   "cell_type": "code",
   "execution_count": 90,
   "id": "281f2afd-80c3-4781-93ef-23a1a1584795",
   "metadata": {},
   "outputs": [
    {
     "data": {
      "text/plain": [
       "torch.Size([8])"
      ]
     },
     "execution_count": 90,
     "metadata": {},
     "output_type": "execute_result"
    }
   ],
   "source": [
    "mn_index[0, :, 0].shape"
   ]
  },
  {
   "cell_type": "code",
   "execution_count": 80,
   "id": "e5939f9e-ad3b-444f-9ef7-66131d375b81",
   "metadata": {},
   "outputs": [
    {
     "data": {
      "text/plain": [
       "torch.Size([32, 2, 8, 1])"
      ]
     },
     "execution_count": 80,
     "metadata": {},
     "output_type": "execute_result"
    }
   ],
   "source": [
    "fake_mn_label.shape"
   ]
  },
  {
   "cell_type": "code",
   "execution_count": null,
   "id": "714c863b-ab66-4ecc-9410-2d8eb1ab162c",
   "metadata": {},
   "outputs": [],
   "source": []
  }
 ],
 "metadata": {
  "kernelspec": {
   "display_name": "Python 3 (ipykernel)",
   "language": "python",
   "name": "python3"
  },
  "language_info": {
   "codemirror_mode": {
    "name": "ipython",
    "version": 3
   },
   "file_extension": ".py",
   "mimetype": "text/x-python",
   "name": "python",
   "nbconvert_exporter": "python",
   "pygments_lexer": "ipython3",
   "version": "3.12.2"
  }
 },
 "nbformat": 4,
 "nbformat_minor": 5
}
